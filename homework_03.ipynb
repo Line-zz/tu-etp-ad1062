{
 "cells": [
  {
   "cell_type": "markdown",
   "metadata": {},
   "source": [
    "# Homework of Ch3. Malware Behavior Log Classification\n",
    "----\n",
    "This is the homework snippet of TU-ETP-AD1062 Machine Learning Fundamentals.\n",
    "\n",
    "For more information, please refer to:\n",
    "https://sites.google.com/view/tu-ad1062-mlfundamentals/"
   ]
  },
  {
   "cell_type": "markdown",
   "metadata": {},
   "source": [
    "## Import Packages\n",
    "----\n",
    "- Data pre-processing:\n",
    "    - `pandas`: Used for CSV reading\n",
    "    - `os`: Used for path join\n",
    "    - `sklearn.preprocessing.LabelEncoder`: Convert string-based labels into numeric labels\n",
    "- Classifier training and predicting:\n",
    "    - `lightgbm`: Gradient boosting (Ch.3)\n",
    "    - `sklearn.svm.SVC`: Support Vector Machine (Ch.2, Ch.3)\n",
    "    - `sklearn.neural_network.MLPClassifier`: Multi-Layer Perceptron (Ch.3)\n",
    "- Performance evaluation:\n",
    "    - `sklearn.model_selection.cross_validate`: **Automatically** divide your data into training and validation set for k-times, construct classifier and compute the scores, which is for k-fold cross-validation\n",
    "    - `sklearn.model_selection.train_test_split`: Divide your data into training and validation set for once, then feed into classifier by yourself, observing the score and confusion matrix\n",
    "    - `mlfund.plot.PlotMetric`: plot confusion matrix (provided by this repository)"
   ]
  },
  {
   "cell_type": "code",
   "execution_count": null,
   "metadata": {},
   "outputs": [],
   "source": [
    "!pip install pandas\n",
    "\n",
    "import pandas as pd\n",
    "import os\n",
    "from sklearn.preprocessing import LabelEncoder\n",
    "\n",
    "import lightgbm as lgb\n",
    "from sklearn.svm import SVC\n",
    "from sklearn.neural_network import MLPClassifier\n",
    "\n",
    "from mlfund.plot import PlotMetric\n",
    "from sklearn.model_selection import cross_val_score\n",
    "from sklearn.model_selection import train_test_split\n",
    "%matplotlib inline"
   ]
  },
  {
   "cell_type": "markdown",
   "metadata": {},
   "source": [
    "## 1. Data pre-processing\n",
    "----\n",
    "The code snippet is used to:\n",
    "1. Read CSV files,\n",
    "2. Convert the required part into `numpy.ndarray` for scikit-learn training and predicting, and\n",
    "3. Convert the string labels into numeric labels by `sklearn.preprocessing.LabelEncoder`, i.e.,:\n",
    "    - `PWS:Win32/Fareit`: 0\n",
    "    - `Trojan:HTML/Brocoiner`: 1\n",
    "    - `Trojan:O97M/Obfuse`: 2\n",
    "    - ...\n",
    "    - `VirTool:Win32/VBInject`: 19"
   ]
  },
  {
   "cell_type": "markdown",
   "metadata": {},
   "source": [
    "### 1.1. Read CSV Files by Pandas\n",
    "----\n",
    "Here we simply use `pandas.read_csv` for the csv reading. Notice that:\n",
    "- The result will be pandas `DataFrame`, however most of machine learning framework accept `numpy.ndarray`, therefore we need to convert it by accessing `.values`\n",
    "- The first column `id` should be ignored, therefore we accessed the values from the 1-st column instead of 0-th column (i.e., using `.values[:, 1:]`)"
   ]
  },
  {
   "cell_type": "code",
   "execution_count": null,
   "metadata": {},
   "outputs": [],
   "source": [
    "# Training set\n",
    "df_train_feature = pd.read_csv(os.path.join('data', 'hw03_dataset.train.feature.csv'))\n",
    "df_train_label = pd.read_csv(os.path.join('data', 'hw03_dataset.train.label.csv'))\n",
    "\n",
    "X_train = df_train_feature.values[:, 1:]\n",
    "y_train_str = df_train_label.values[:, 1:].reshape(len(df_train_label.values[:, 1:]))\n",
    "\n",
    "\n",
    "# Testing test\n",
    "df_test_feature = pd.read_csv(os.path.join('data', 'hw03_dataset.test.feature.csv'))\n",
    "df_test_label = pd.read_csv(os.path.join('data', 'hw03_dataset.test.label.csv'))\n",
    "\n",
    "X_test = df_test_feature.values[:, 1:]\n",
    "y_test_str = df_test_label.values[:, 1:].reshape(len(df_test_label.values[:, 1:]))"
   ]
  },
  {
   "cell_type": "code",
   "execution_count": null,
   "metadata": {},
   "outputs": [],
   "source": [
    "display(df_train_feature)"
   ]
  },
  {
   "cell_type": "markdown",
   "metadata": {},
   "source": [
    "### 1.2. Convert String Label to Numeric Labels\n",
    "----\n"
   ]
  },
  {
   "cell_type": "code",
   "execution_count": null,
   "metadata": {},
   "outputs": [],
   "source": [
    "label_encoder = LabelEncoder()\n",
    "label_encoder.fit(y_train_str)\n",
    "\n",
    "y_train = label_encoder.transform(y_train_str)\n",
    "y_test = label_encoder.transform(y_test_str)"
   ]
  },
  {
   "cell_type": "code",
   "execution_count": null,
   "metadata": {},
   "outputs": [],
   "source": [
    "display(label_encoder.classes_)"
   ]
  },
  {
   "cell_type": "markdown",
   "metadata": {},
   "source": [
    "## 2. Construct your Classifier\n",
    "----\n",
    "Build your classifier with 2 types evaluation:\n",
    "- Spliting your training data into 80% training set (`X1` and `y1`) and 20% testing set (`X2` and `y2`) **only for once**\n",
    "- Automatically conduct k-fold cross validation"
   ]
  },
  {
   "cell_type": "code",
   "execution_count": null,
   "metadata": {},
   "outputs": [],
   "source": [
    "def create_gradient_boost():\n",
    "    return lgb.LGBMClassifier()\n",
    "\n",
    "def create_svc():\n",
    "    return SVC(C=1.0)\n",
    "\n",
    "def create_MLP():\n",
    "    return MLPClassifier()"
   ]
  },
  {
   "cell_type": "code",
   "execution_count": null,
   "metadata": {},
   "outputs": [],
   "source": [
    "scores = cross_val_score(create_gradient_boost(), X_train, y_train, cv=5)\n",
    "display(scores)"
   ]
  },
  {
   "cell_type": "code",
   "execution_count": null,
   "metadata": {},
   "outputs": [],
   "source": [
    "clfLgb = lgb.LGBMClassifier()\n",
    "clfLgb.fit(X_train, y_train, feature_name=df_train_feature.columns.to_list()[1:])"
   ]
  },
  {
   "cell_type": "code",
   "execution_count": null,
   "metadata": {},
   "outputs": [],
   "source": [
    "y_test_predict = clfLgb.predict(X_test)"
   ]
  },
  {
   "cell_type": "code",
   "execution_count": null,
   "metadata": {},
   "outputs": [],
   "source": [
    "plot = PlotMetric()\n",
    "plot.set_labels(list(label_encoder.classes_))\n",
    "plot.confusion_matrix(y_test, y_test_predict, normalize=True)"
   ]
  },
  {
   "cell_type": "code",
   "execution_count": null,
   "metadata": {},
   "outputs": [],
   "source": []
  }
 ],
 "metadata": {
  "kernelspec": {
   "display_name": "Python 3",
   "language": "python",
   "name": "python3"
  },
  "language_info": {
   "codemirror_mode": {
    "name": "ipython",
    "version": 3
   },
   "file_extension": ".py",
   "mimetype": "text/x-python",
   "name": "python",
   "nbconvert_exporter": "python",
   "pygments_lexer": "ipython3",
   "version": "3.7.3"
  }
 },
 "nbformat": 4,
 "nbformat_minor": 2
}
